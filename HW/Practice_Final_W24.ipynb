{
 "cells": [
  {
   "cell_type": "code",
   "execution_count": 1,
   "id": "4c380042-f774-499e-9629-7f786785d537",
   "metadata": {},
   "outputs": [],
   "source": [
    "import numpy as np\n",
    "import cvxpy as cp\n",
    "import matplotlib.pyplot as plt\n",
    "import sys, os\n",
    "sys.path.insert(0, os.path.abspath('/Users/qdeng/Personal/cvxbook_additional_exercises/python'))"
   ]
  },
  {
   "cell_type": "code",
   "execution_count": null,
   "id": "2d79f65e-27f7-49a8-919d-8f7f329cb82d",
   "metadata": {},
   "outputs": [],
   "source": []
  },
  {
   "cell_type": "markdown",
   "id": "737400cf-38dc-4467-84e2-f38e3f5627e3",
   "metadata": {},
   "source": [
    "### Problem 2"
   ]
  },
  {
   "cell_type": "code",
   "execution_count": 2,
   "id": "02893044-0f7d-4d31-83c9-cdc3590a5f7b",
   "metadata": {},
   "outputs": [],
   "source": [
    "from metric_learning_data import *"
   ]
  },
  {
   "cell_type": "code",
   "execution_count": 31,
   "id": "2b3600cf-2322-4681-b2fc-0ea1cd94bce4",
   "metadata": {},
   "outputs": [
    {
     "data": {
      "text/plain": [
       "187.3456288176929"
      ]
     },
     "execution_count": 31,
     "metadata": {},
     "output_type": "execute_result"
    }
   ],
   "source": [
    "P = cp.Variable((n,n))\n",
    "\n",
    "obj = cp.Minimize(\n",
    "    cp.sum([cp.quad_form(X[i]-X[j],P) for (i, j) in S])\n",
    "    +cp.sum([cp.quad_over_lin(1,cp.quad_form(X[i]-X[j],P)) for (i, j) in D])\n",
    ")\n",
    "\n",
    "constraints = []\n",
    "constraints += [P>>0]\n",
    "\n",
    "prob = cp.Problem(obj,constraints)\n",
    "\n",
    "prob.solve()"
   ]
  },
  {
   "cell_type": "code",
   "execution_count": 41,
   "id": "b241e9bd-20db-41d9-9d66-01499695639e",
   "metadata": {
    "scrolled": true
   },
   "outputs": [],
   "source": [
    "correct = 0 \n",
    "incorrect = 0\n",
    "for i, j in S_test:\n",
    "    val = (X[i]-X[j]).T@P.value@(X[i]-X[j])\n",
    "\n",
    "    if val<=1:\n",
    "        correct += 1\n",
    "    elif val>1:\n",
    "        incorrect += 1\n",
    "    else:\n",
    "        raise(ValueError)\n",
    "        \n",
    "for i, j in D_test:\n",
    "    val = (X[i]-X[j]).T@P.value@(X[i]-X[j])\n",
    "\n",
    "    if val<=1:\n",
    "        incorrect += 1\n",
    "    elif val>1:\n",
    "        correct += 1\n",
    "    else:\n",
    "        raise(ValueError)"
   ]
  },
  {
   "cell_type": "code",
   "execution_count": 42,
   "id": "8397c437-c9cc-414b-a4d2-e9fb1e1923dc",
   "metadata": {},
   "outputs": [
    {
     "data": {
      "text/plain": [
       "(240, 60)"
      ]
     },
     "execution_count": 42,
     "metadata": {},
     "output_type": "execute_result"
    }
   ],
   "source": [
    "correct, incorrect"
   ]
  },
  {
   "cell_type": "code",
   "execution_count": 45,
   "id": "2caeaeb9-9cc8-4d80-921b-528acb02bba2",
   "metadata": {},
   "outputs": [
    {
     "data": {
      "text/plain": [
       "300"
      ]
     },
     "execution_count": 45,
     "metadata": {},
     "output_type": "execute_result"
    }
   ],
   "source": [
    "len(np.unique(np.concatenate([S_test, D_test]),axis=0))"
   ]
  },
  {
   "cell_type": "code",
   "execution_count": 46,
   "id": "609ecfbd-6af5-46e6-b6c1-b02a46e10e3b",
   "metadata": {},
   "outputs": [
    {
     "data": {
      "text/plain": [
       "0.2"
      ]
     },
     "execution_count": 46,
     "metadata": {},
     "output_type": "execute_result"
    }
   ],
   "source": [
    "60/300"
   ]
  },
  {
   "cell_type": "markdown",
   "id": "c76331b9-d872-4e55-9c88-196b296d1299",
   "metadata": {},
   "source": [
    "### Problem"
   ]
  },
  {
   "cell_type": "code",
   "execution_count": null,
   "id": "ad612ad1-ef1a-43e0-b7b0-7f7f314e4058",
   "metadata": {},
   "outputs": [],
   "source": [
    "for i in range(0)"
   ]
  }
 ],
 "metadata": {
  "kernelspec": {
   "display_name": "Python 3 (ipykernel)",
   "language": "python",
   "name": "python3"
  },
  "language_info": {
   "codemirror_mode": {
    "name": "ipython",
    "version": 3
   },
   "file_extension": ".py",
   "mimetype": "text/x-python",
   "name": "python",
   "nbconvert_exporter": "python",
   "pygments_lexer": "ipython3",
   "version": "3.11.6"
  }
 },
 "nbformat": 4,
 "nbformat_minor": 5
}
